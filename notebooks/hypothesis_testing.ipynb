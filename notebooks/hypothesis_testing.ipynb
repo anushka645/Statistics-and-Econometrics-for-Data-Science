{
 "cells": [
  {
   "cell_type": "markdown",
   "metadata": {},
   "source": [
    "**Hypothesis Testing**\n",
    "- Hypothesis is a mechanism for taking decision in inferential statistics. It helps on proving or desprove the claims which are being tested\n",
    "- Hypothesis testing also helps to create structure of the problem statement\n",
    "- The process provides an act in statistics with which an analyst tests an assumption regarding a population parameter. It is used extensively to assess the plausibility of a hypothesis by using sample data. The assumptions made might be correct or it may not be. Data alone isn't interesting enough. It is the interpretation that we are really interested in.\n",
    "\n",
    "*Statistical Hypothesis:* When a researcher already has an idea about the outcome, even before doing the experiment. The Statistical hypothesis provides standard structural framework to work on the problem and make a data centric decision.\n",
    "\n",
    "Statistical Hypothesis consists of 2 parts:\n",
    "1. Null Hypothesis (*Ho*)\n",
    "2. Alternative Hypothesis (*Ha*)\n",
    "\n",
    "The Null hypothesis states 'Null' condition exists, meaning the statement that has been said is happening, nothing new happening, old beliefs are true.\n",
    "\n",
    "The Alternative hypothesis states, the new theory is true, or something new is happening, old beliefs are not true.\n",
    "\n",
    "**Example:**\n",
    "\n",
    "Census of Height\n",
    "\n",
    "$H_{o} = 160$\n",
    "\n",
    "$H_{a} \\ne 160$\n",
    "\n",
    "In general if any new thing is to be proposed, it is defined in ALternative hypothesis\n",
    "\n",
    "Example of Fish farm\n",
    "\n",
    "$H_{o} <= 2$\n",
    "\n",
    "$H_{a}  > 2$\n",
    "\n",
    "$H_{o} = 2$\n",
    "\n",
    "$H_{a}  > 2$\n",
    "\n",
    "Tests of Statistical hypothesis\n",
    "Based on few informations based on 2 examples the statistical hypothesis can be defined in 2 tests:\n",
    "\n",
    "Two tailed hypothesis: The statments are directionless$$H_{o}: \\space \\space  \\mu = 163$$$$H_{a}: \\space \\space  \\mu \\ne 163$$\n",
    "this process then needs further investigation about the direction of the test\n",
    "\n",
    "One tailed tests: The Hypothesis statements have a direction$$H_{o}: \\space \\space  length = 2$$ $$H_{a}: \\space \\space  length > 2$$\n",
    "this tests are used only when the researcher is sure about the outcome of the test would be on greater than the pre learned info\n",
    "\n",
    "If the Null Hypothesis is rejected and therefore Alternative hypothesis is accepted, it is said as statistically significant result has been obtained, in simpler words, the result obtained is not just luck by chance and the decision has been made to reject the Null hypothesis.\n",
    "\n",
    "In our example 2.1 is statistically significant higher than the 2 but for business that might not be the actual significant as a result, so caution has to be taken during interpreting the outcomes of statistical tests.\n",
    "\n",
    "The outcome of the test depends on the sample in consideration, also whether a slight change is substantive outcome or not, would be completely depending on the use case or the researcher."
   ]
  },
  {
   "cell_type": "code",
   "execution_count": null,
   "metadata": {},
   "outputs": [],
   "source": []
  }
 ],
 "metadata": {
  "kernelspec": {
   "display_name": "Python 3",
   "language": "python",
   "name": "python3"
  },
  "language_info": {
   "codemirror_mode": {
    "name": "ipython",
    "version": 3
   },
   "file_extension": ".py",
   "mimetype": "text/x-python",
   "name": "python",
   "nbconvert_exporter": "python",
   "pygments_lexer": "ipython3",
   "version": "3.8.5"
  }
 },
 "nbformat": 4,
 "nbformat_minor": 4
}
